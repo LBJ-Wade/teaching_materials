{
 "cells": [
  {
   "cell_type": "code",
   "execution_count": 1,
   "metadata": {},
   "outputs": [],
   "source": [
    "#!/usr/bin/env python\n",
    "\"\"\"mass_radius_relations.ipynb: a notebook to calculate NS mass-radius relations as part of the 2019 CRAQ summerschool\"\"\"\n",
    "\n",
    "__author__ = \"Vanessa Graber\"\n",
    "__copyright__ = \"Copyright 2019\"\n",
    "__credits__ = [\"Vanessa Graber\"]\n",
    "__license__ = \"MIT\"\n",
    "__maintainer__ = \"Vanessa Graber\"\n",
    "__email__ = \"vanessa.graber@mcgill.ca\""
   ]
  },
  {
   "cell_type": "markdown",
   "metadata": {},
   "source": [
    "# Calculating Mass-radius Curves"
   ]
  },
  {
   "cell_type": "markdown",
   "metadata": {},
   "source": [
    "In this exercise, we will solve the relativistic Tolman-Oppenheimer-Volkoff equation, which is obtained by solving Einstein's equation for a non-rotating, spherically symmetric, ideal fuid. Its solution descibes the global structure of a general relativistic, spherical object in hydrostatic equilibrium and is often used to obtain a simple model of neutron stars. Specifically, we can calculate characteristic mass-radius curves."
   ]
  },
  {
   "cell_type": "code",
   "execution_count": 2,
   "metadata": {},
   "outputs": [],
   "source": [
    "import numpy as np\n",
    "import scipy as sp\n",
    "import matplotlib as mpl\n",
    "import matplotlib.pyplot as plt\n",
    "from scipy.integrate import odeint\n",
    "from matplotlib import rc\n",
    "%matplotlib inline\n",
    "\n",
    "# only comment out, when you have latex installed\n",
    "# rc('text', usetex = True)\n",
    "# rc('font', family = 'serif')\n",
    "# mpl.rcParams['text.latex.preamble'] = [r\"\\usepackage{amsmath}\"]"
   ]
  },
  {
   "cell_type": "markdown",
   "metadata": {
    "collapsed": true
   },
   "source": [
    "To calculate numerical estimates we use the following natural constants. Note that these are defined in SI-units, so we convert them to cgs units."
   ]
  },
  {
   "cell_type": "code",
   "execution_count": 3,
   "metadata": {},
   "outputs": [
    {
     "name": "stdout",
     "output_type": "stream",
     "text": [
      "1.0545718001391126e-27 1.674927471e-24 29979245800.0 6.67408e-08\n"
     ]
    }
   ],
   "source": [
    "from scipy.constants import pi, c, hbar, m_n, G\n",
    "hbar = hbar*1e7\n",
    "m_n = m_n*1e3\n",
    "c = c *1e2\n",
    "G = G*1e3\n",
    "Msun = 1.98855e33\n",
    "print(hbar, m_n, c, G)"
   ]
  },
  {
   "cell_type": "markdown",
   "metadata": {},
   "source": [
    "## TOV Equation"
   ]
  },
  {
   "cell_type": "markdown",
   "metadata": {
    "collapsed": true
   },
   "source": [
    "The TOV equation reads"
   ]
  },
  {
   "cell_type": "markdown",
   "metadata": {},
   "source": [
    "$$\n",
    "\\frac{dP(r)}{dr} = - \\frac{G}{r^2} \\left[ \\rho(r) + \\frac{P(r)}{c^2} \\right] \\left[m(r) + 4 \\pi r^3 \\frac{P(r)}{c^2} \\right] \\left[ 1 - \\frac{2 G m(r)}{c^2 r} \\right]^{-1},\n",
    "$$"
   ]
  },
  {
   "cell_type": "markdown",
   "metadata": {},
   "source": [
    "where $G$ and $c$ represent the gravitational constant and speed of light, respectively. Moreover, $r$ denotes the radial coordinate and $\\rho(r)$ and $P(r)$ the mass density and pressure at position $r$, respectively. Finally, $m(r)$ is the gravitational mass (i.e. the mass measured by the gravitational field felt by a distant observer), which satisfies $m(0) = 0$ and is obtained by solving the continuity equation"
   ]
  },
  {
   "cell_type": "markdown",
   "metadata": {},
   "source": [
    "$$\n",
    "\\frac{dm(r)}{dr}=4 \\pi \\rho(r) r^2 \\hspace{1cm} \\rightarrow \\hspace{1cm} \n",
    "M = m(R) = \\int_0^{R} 4 \\pi \\rho(r) r^2 \\, d r ,\n",
    "$$"
   ]
  },
  {
   "cell_type": "markdown",
   "metadata": {},
   "source": [
    "with the stellar radius $r=R$. To solve the TOV equation and determine the structure of a simplified neutron star, we also need to provide an equation of state, relating pressure and density of the object, i.e. $P = P(\\rho)$.  In the following, we will solve the TOV equation for a simplified equation of state."
   ]
  },
  {
   "cell_type": "markdown",
   "metadata": {},
   "source": [
    "## Two-component polytrope"
   ]
  },
  {
   "cell_type": "markdown",
   "metadata": {},
   "source": [
    "As a simple neutron star model, we consider a sphere composed by non-interacting, degenerate neutrons which are characterised by two polytropic equations of state, i.e. one for the crust and one for the core with the boundary located at $\\rho_{\\rm b} \\sim 3 \\times 10^{14} \\, \\text{g} \\, \\text{cm}^{-3}$, i.e."
   ]
  },
  {
   "cell_type": "markdown",
   "metadata": {},
   "source": [
    "$$\n",
    "P = \\left\\{ \\begin{array}{ll} K_{\\rm crust} \\, \\rho^{\\gamma_{\\rm crust}} & \\text{for   } \\rho < \\rho_{\\rm b}, \\\\ K_{\\rm core} \\, \\rho^{\\gamma_{\\rm core}} & \\text{for   } \\rho > \\rho_{\\rm b}. \\end{array} \\right.\n",
    "$$"
   ]
  },
  {
   "cell_type": "markdown",
   "metadata": {},
   "source": [
    "We assume that the crust is pure degenerate neutron matter, described by the non-relativistic EoS"
   ]
  },
  {
   "cell_type": "markdown",
   "metadata": {},
   "source": [
    "$$\n",
    "P_{\\rm crust} =  \\frac{(3 \\pi^2)^{2/3}}{5} \\frac{\\hbar^2}{m_n^{8/3}} \\, \\rho^{5/3}.\n",
    "$$"
   ]
  },
  {
   "cell_type": "markdown",
   "metadata": {},
   "source": [
    "For the core, we will try two different equations of state with different polytropic indices ($\\gamma = 1 + 1/n$):\n",
    "\n",
    "\\begin{align}\n",
    "&\\text{stiff with} \\hspace{0.5cm} \\gamma_{\\rm stiff} = 3, \\hspace{0.5cm} n_{\\rm stiff} = 1/2,\\\\[1.3ex]\n",
    "&\\text{soft with} \\hspace{0.5cm} \\gamma_{\\rm soft} = 5/2, \\hspace{0.5cm} n_{\\rm soft} = 2/3 .\n",
    "\\end{align}\n",
    "\n",
    "We also require continuity of the pressure at the crust-core interface, which gives the proportionality constant for the core EoS:"
   ]
  },
  {
   "cell_type": "markdown",
   "metadata": {},
   "source": [
    "$$\n",
    "K_{\\rm core} = K_{\\rm crust} \\, \\rho_{\\rm b}^{\\gamma_{\\rm crust}-\\gamma_{\\rm core}}.\n",
    "$$"
   ]
  },
  {
   "cell_type": "code",
   "execution_count": 4,
   "metadata": {},
   "outputs": [],
   "source": [
    "gamma_crust = 5.0 / 3.0\n",
    "gamma_core_stiff = 3.0\n",
    "gamma_core_soft = 2.5\n",
    "K_crust = (hbar**2. * (3.0 * pi**2.)**(2. / 3.)) / (5 * m_n**(8. / 3.))"
   ]
  },
  {
   "cell_type": "code",
   "execution_count": 5,
   "metadata": {},
   "outputs": [],
   "source": [
    "rho_b = 3e14\n",
    "P_b = K_crust*rho_b**gamma_crust"
   ]
  },
  {
   "cell_type": "markdown",
   "metadata": {},
   "source": [
    "We need both $P(\\rho)$ and the inverse $\\rho(P)$, so we define two separate functions (negative densities/pressures are unphysical)"
   ]
  },
  {
   "cell_type": "code",
   "execution_count": 6,
   "metadata": {},
   "outputs": [],
   "source": [
    "def eos(dens, gamma_core):\n",
    "    \"\"\"Equation of state taking the density and the adiabatic \n",
    "    index for the core EoS and returns the pressure\"\"\"\n",
    "    \n",
    "    K_core = K_crust * rho_b**(gamma_crust - gamma_core)\n",
    "    \n",
    "    if dens <= 0:\n",
    "        return 0\n",
    "    if dens < rho_b: \n",
    "        return K_crust * dens**gamma_crust\n",
    "    else:\n",
    "        return K_core * dens**gamma_core"
   ]
  },
  {
   "cell_type": "code",
   "execution_count": 7,
   "metadata": {},
   "outputs": [],
   "source": [
    "def eos_inverse(pres, gamma_core):\n",
    "    \"\"\"Inverse equation of state taking the pressure and the adiabatic \n",
    "    index for the core EoS and returns the density\"\"\"\n",
    "    \n",
    "    K_core = K_crust * rho_b**(gamma_crust - gamma_core)\n",
    "    \n",
    "    if pres <= 0:\n",
    "        return 0\n",
    "    if pres < P_b:\n",
    "        return (pres / K_crust)**(1.0 / gamma_crust)\n",
    "    else:\n",
    "        return (pres / K_core)**(1.0 / gamma_core)"
   ]
  },
  {
   "cell_type": "markdown",
   "metadata": {},
   "source": [
    "As a check, compare"
   ]
  },
  {
   "cell_type": "code",
   "execution_count": 8,
   "metadata": {},
   "outputs": [
    {
     "name": "stdout",
     "output_type": "stream",
     "text": [
      "7.233398298443051e+33\n",
      "7.233398298443053e+33\n",
      "300000000000000.0\n",
      "299999999999999.44\n"
     ]
    }
   ],
   "source": [
    "print(P_b)\n",
    "print(eos(rho_b,gamma_core_stiff))\n",
    "print(rho_b)\n",
    "print(eos_inverse(P_b,gamma_core_stiff))"
   ]
  },
  {
   "cell_type": "markdown",
   "metadata": {
    "collapsed": true
   },
   "source": [
    "## Numerical solution"
   ]
  },
  {
   "cell_type": "markdown",
   "metadata": {},
   "source": [
    "### Differential equations"
   ]
  },
  {
   "cell_type": "markdown",
   "metadata": {},
   "source": [
    "We can write the two first order differential equations in a compact form by introducing the vector $\\mathbf{y}=(P,m)^T$:"
   ]
  },
  {
   "cell_type": "markdown",
   "metadata": {},
   "source": [
    "$$\n",
    "\\frac{d \\mathbf{y}}{d r} = \\frac{d}{d r} \\left( \\begin{array}{c} P \\\\ m \\end{array} \\right) = \\left( \\begin{array}{c} - \\frac{G}{r^2} \\left[ \\rho(r) + \\frac{P(r)}{c^2} \\right] \\left[m(r) + 4 \\pi r^3 \\frac{P(r)}{c^2} \\right] \\left[ 1 - \\frac{2 G m(r)}{c^2 r} \\right]^{-1} \\\\ 4 \\pi \\rho(r) r^2 \\end{array} \\right).\n",
    "$$"
   ]
  },
  {
   "cell_type": "code",
   "execution_count": 9,
   "metadata": {},
   "outputs": [],
   "source": [
    "def TOV(y,radius,gamma_core):\n",
    "    \"\"\"TOV equations\"\"\"\n",
    "    \n",
    "    P = y[0]\n",
    "    m = y[1]\n",
    "    rho = eos_inverse(P,gamma_core)\n",
    "    \n",
    "    dPdr = -G * (rho + P / c**2.) * (m + 4.0 * pi * radius**3. * P / c**2.) / (radius * (radius - 2.0 * G * m / c**2.))\n",
    "    dmdr = 4.0 * pi * radius**2. * rho\n",
    "    dydr = np.array([dPdr, dmdr])\n",
    "    \n",
    "    return dydr"
   ]
  },
  {
   "cell_type": "markdown",
   "metadata": {},
   "source": [
    "To integrate this system with respect to the radial variable $r$, we have to specify the mass and pressure at $r=0$. To do this, either a central density or pressure (as both are related by the EoS) can be chosen. We will calculate the star's mass and radius for a typical range of central densities."
   ]
  },
  {
   "cell_type": "markdown",
   "metadata": {},
   "source": [
    "### Numerical integration"
   ]
  },
  {
   "cell_type": "markdown",
   "metadata": {},
   "source": [
    "To solve the initial value problem use `odeint`:"
   ]
  },
  {
   "cell_type": "code",
   "execution_count": 10,
   "metadata": {},
   "outputs": [],
   "source": [
    "dr = 1e2\n",
    "r = np.arange(dr, 2e6, dr)"
   ]
  },
  {
   "cell_type": "code",
   "execution_count": 11,
   "metadata": {},
   "outputs": [],
   "source": [
    "def solve_TOV(radius, dens_central, gamma_core):\n",
    "    \"\"\"Function takes a radius array, central density and the adiabatic \n",
    "    index for the core EoS and solves the TOV equation\"\"\"\n",
    "    \n",
    "    # setting the initial values at r=0\n",
    "    P0 = eos(dens_central, gamma_core)\n",
    "    m0 = 4.0 * pi * radius[0]**3. * dens_central / 3.0\n",
    "    y0 = np.array([P0, m0])\n",
    "    \n",
    "    # adjust the maximum step size for integration\n",
    "    y = odeint(TOV, y0, radius, args=(gamma_core,), mxstep=500000)\n",
    "    \n",
    "    # remove negative pressures, i.e. truncate at stellar surface\n",
    "    y = y[y[:, 0] > 0]\n",
    "    return y"
   ]
  },
  {
   "cell_type": "code",
   "execution_count": 12,
   "metadata": {},
   "outputs": [
    {
     "name": "stdout",
     "output_type": "stream",
     "text": [
      "[[2.67903641e+35 4.18879020e+21]\n",
      " [2.67903630e+35 3.35103215e+22]\n",
      " [2.67903613e+35 1.13097333e+23]\n",
      " ...\n",
      " [6.31361227e+26 4.35145980e+33]\n",
      " [2.03926321e+26 4.35145982e+33]\n",
      " [2.45261288e+25 4.35145984e+33]]\n"
     ]
    }
   ],
   "source": [
    "print(solve_TOV(r, 1e15, gamma_core_stiff))"
   ]
  },
  {
   "cell_type": "markdown",
   "metadata": {},
   "source": [
    "### Pressure and mass behaviour"
   ]
  },
  {
   "cell_type": "markdown",
   "metadata": {},
   "source": [
    "Plot the results as a function of radius to compare soft and stiff core equations of state for a central density $\\rho_c = 10^{15} \\, \\text{g} \\, \\text{cm}^{-3}$. For convencience express the radial coordinate in kilometers and introduce the dimensionless quantities $\\bar{P} = P / P_c$ ($P_c$ is the central pressure) and $\\bar{M} = M/M_{\\odot}$."
   ]
  },
  {
   "cell_type": "code",
   "execution_count": 13,
   "metadata": {},
   "outputs": [],
   "source": [
    "P_c_stiff = eos(1e15, gamma_core_stiff)\n",
    "Pbar_stiff = solve_TOV(r,1e15, gamma_core_stiff)[:,0] / (P_c_stiff)\n",
    "P_c_soft = eos(1e15, gamma_core_soft)\n",
    "Pbar_soft = solve_TOV(r,1e15, gamma_core_soft)[:,0]/(P_c_soft)\n",
    "rbar = r/1e5"
   ]
  },
  {
   "cell_type": "code",
   "execution_count": 14,
   "metadata": {},
   "outputs": [
    {
     "data": {
      "image/png": "[encoded data removed]",
      "text/plain": [
       "<Figure size 576x576 with 1 Axes>"
      ]
     },
     "metadata": {
      "needs_background": "light"
     },
     "output_type": "display_data"
    }
   ],
   "source": [
    "fig = plt.figure()\n",
    "fig.set_size_inches(8,8)\n",
    "mpl.rcParams.update({'font.size': 22})\n",
    "colour = ('red','blue','green','yellow','brown','purple')\n",
    "plt.title(r'TOV solution for $\\rho_c = 10^{15} \\,$g$\\,$cm$^{-3}$', fontsize = 22)\n",
    "\n",
    "plt.plot(rbar[:len(Pbar_stiff)], Pbar_stiff, '.', color='blue', label=r\"stiff EoS, $\\gamma=3$\")\n",
    "plt.plot(rbar[:len(Pbar_soft)], Pbar_soft, '.', color='red', label=r\"soft EoS, $\\gamma=5/2$\")\n",
    "\n",
    "plt.xlim(0,15)\n",
    "plt.ylim(0,1)\n",
    "plt.xlabel(r'$r$ in km')\n",
    "plt.ylabel(r'$\\bar{P}(r)$')\n",
    "plt.grid()\n",
    "\n",
    "plt.legend(loc = 1);\n",
    "plt.show()"
   ]
  },
  {
   "cell_type": "code",
   "execution_count": 15,
   "metadata": {},
   "outputs": [],
   "source": [
    "Mbar_stiff = solve_TOV(r, 1e15, gamma_core_stiff)[:,1] / Msun\n",
    "Mbar_soft = solve_TOV(r, 1e15, gamma_core_soft)[:,1] / Msun"
   ]
  },
  {
   "cell_type": "code",
   "execution_count": 16,
   "metadata": {},
   "outputs": [
    {
     "data": {
      "image/png": "[encoded data removed]",
      "text/plain": [
       "<Figure size 576x576 with 1 Axes>"
      ]
     },
     "metadata": {
      "needs_background": "light"
     },
     "output_type": "display_data"
    }
   ],
   "source": [
    "fig=plt.figure()\n",
    "fig.set_size_inches(8,8)\n",
    "mpl.rcParams.update({'font.size': 22})\n",
    "colour = ('red','blue','green','yellow','brown','purple')\n",
    "plt.title(r'TOV solution for $\\rho_c = 10^{15} \\,$g$\\,$cm$^{-3}$', fontsize = 22)\n",
    "\n",
    "plt.plot(rbar[:len(Mbar_stiff)], Mbar_stiff, '.', color='blue', label=r\"stiff EoS, $\\gamma=3$\")\n",
    "plt.plot(rbar[:len(Mbar_soft)], Mbar_soft, '.', color='red', label=r\"soft EoS, $\\gamma=5/2$\")\n",
    "\n",
    "plt.xlim(0,15)\n",
    "plt.ylim(0,2.5)\n",
    "plt.xlabel(r'$r$ in km')\n",
    "plt.ylabel(r'$\\bar{M}(r)$')\n",
    "plt.grid()\n",
    "\n",
    "plt.legend(loc = 2);\n",
    "plt.show()"
   ]
  },
  {
   "cell_type": "markdown",
   "metadata": {},
   "source": [
    "### Mass-radius relations"
   ]
  },
  {
   "cell_type": "markdown",
   "metadata": {},
   "source": [
    "Determine $R$, i.e. the surface of the star, as the entry in the $r$ array, where density and pressure drop below zero and we have cut off our solution $\\mathbf{y}$."
   ]
  },
  {
   "cell_type": "code",
   "execution_count": 17,
   "metadata": {},
   "outputs": [],
   "source": [
    "def EoS_parameters(radius, dens_central, gamma_core):\n",
    "    \"\"\"Function takes a central density and the adiabatic index for \n",
    "    the core EoS and returns the star's mass and radius\"\"\"\n",
    "    \n",
    "    y = solve_TOV(radius, dens_central, gamma_core)\n",
    "    M_star = y[-1 ,1]\n",
    "    R_star = radius[len(y)-1]\n",
    "    \n",
    "    return M_star / Msun, R_star / 1e5"
   ]
  },
  {
   "cell_type": "code",
   "execution_count": 18,
   "metadata": {},
   "outputs": [
    {
     "name": "stdout",
     "output_type": "stream",
     "text": [
      "(2.6622117693286715, 10.539)\n"
     ]
    }
   ],
   "source": [
    "print(EoS_parameters(r, 3e15, gamma_core_stiff))"
   ]
  },
  {
   "cell_type": "markdown",
   "metadata": {},
   "source": [
    "Determine mass-radius relations $M(R)$ for our stiff and soft core equations of state by selecting a range of central densities (start slightly above the boundary value $\\rho_{\\rm boundary} \\sim 3 \\times 10^{14} \\, \\text{g} \\, \\text{cm}^{-3}$):"
   ]
  },
  {
   "cell_type": "code",
   "execution_count": 19,
   "metadata": {},
   "outputs": [],
   "source": [
    "rho_c = np.logspace(14.5, 17, num=150)"
   ]
  },
  {
   "cell_type": "code",
   "execution_count": 20,
   "metadata": {},
   "outputs": [],
   "source": [
    "R_stiff = np.zeros(len(rho_c))\n",
    "M_stiff = np.zeros(len(rho_c))\n",
    "R_soft = np.zeros(len(rho_c))\n",
    "M_soft = np.zeros(len(rho_c))\n",
    "\n",
    "for i, rho in enumerate(rho_c):\n",
    "    M_stiff[i], R_stiff[i] = EoS_parameters(r, rho, gamma_core_stiff)\n",
    "    M_soft[i], R_soft[i] = EoS_parameters(r, rho, gamma_core_soft)"
   ]
  },
  {
   "cell_type": "code",
   "execution_count": 21,
   "metadata": {},
   "outputs": [
    {
     "data": {
      "image/png": "[encoded data removed]",
      "text/plain": [
       "<Figure size 576x576 with 1 Axes>"
      ]
     },
     "metadata": {
      "needs_background": "light"
     },
     "output_type": "display_data"
    }
   ],
   "source": [
    "fig = plt.figure()\n",
    "fig.set_size_inches(8,8)\n",
    "mpl.rcParams.update({'font.size': 22})\n",
    "colour = ('red','blue','green','yellow','brown','purple')\n",
    "plt.title(r'EoS $M(R)$ for two different adiabatic indices', fontsize=22)\n",
    "\n",
    "plt.plot(R_stiff,M_stiff, '.', color='blue', label=r\"stiff EoS, $\\gamma=3$\")\n",
    "plt.plot(R_soft,M_soft, '.', color='red', label=r\"soft EoS, $\\gamma=5/2$\")\n",
    "\n",
    "plt.xlim(6,18)\n",
    "plt.ylim(0.5,3)\n",
    "plt.xlabel(r'$R$ in km')\n",
    "plt.ylabel(r'$M$ in $M_{\\odot}$')\n",
    "plt.grid()\n",
    "\n",
    "plt.legend(loc=3);\n",
    "plt.show()"
   ]
  },
  {
   "cell_type": "markdown",
   "metadata": {},
   "source": [
    "As expected, the softer EoS describes smaller maximum masses as well as smaller masses for a specific radii than the stiffer EoS."
   ]
  }
 ],
 "metadata": {
  "anaconda-cloud": {},
  "kernelspec": {
   "display_name": "Python 3",
   "language": "python",
   "name": "python3"
  },
  "language_info": {
   "codemirror_mode": {
    "name": "ipython",
    "version": 3
   },
   "file_extension": ".py",
   "mimetype": "text/x-python",
   "name": "python",
   "nbconvert_exporter": "python",
   "pygments_lexer": "ipython3",
   "version": "3.8.3"
  }
 },
 "nbformat": 4,
 "nbformat_minor": 2
}
